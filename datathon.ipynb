{
 "cells": [
  {
   "cell_type": "code",
   "execution_count": 151,
   "metadata": {
    "id": "34SynYhjAOeY"
   },
   "outputs": [],
   "source": [
    "import pandas as pd\n",
    "import seaborn as sns\n",
    "from matplotlib import pyplot as plt\n",
    "import numpy as np\n",
    "from sklearn.linear_model import LinearRegression\n",
    "from statsmodels.tools import add_constant"
   ]
  },
  {
   "cell_type": "markdown",
   "metadata": {
    "id": "8MPxi-uyeVEO"
   },
   "source": [
    "link to data source for county and sector stuff \n",
    "* https://data.census.gov/cedsci/table?g=0100000US.050000&d=ANN%20Business%20Patterns%20County%20Business%20Patterns&tid=CBP2018.CB1800CBP&hidePreview=true\n",
    "* https://www.census.gov/data/datasets/2018/econ/cbp/2018-cbp.html"
   ]
  },
  {
   "cell_type": "code",
   "execution_count": 152,
   "metadata": {
    "colab": {
     "base_uri": "https://localhost:8080/"
    },
    "id": "4aXrYfIAeSen",
    "outputId": "20f546dc-169c-41ca-bad6-a417c8d58180",
    "scrolled": true
   },
   "outputs": [
    {
     "name": "stderr",
     "output_type": "stream",
     "text": [
      "C:\\Users\\yizho\\anaconda3\\lib\\site-packages\\IPython\\core\\interactiveshell.py:3063: DtypeWarning: Columns (4,5,7,9,10) have mixed types.Specify dtype option on import or set low_memory=False.\n",
      "  interactivity=interactivity, compiler=compiler, result=result)\n"
     ]
    }
   ],
   "source": [
    "sector_data = pd.read_csv(\"CBP2018.CB1800CBP_data_with_overlays_2020-10-29T122511.csv\")\n"
   ]
  },
  {
   "cell_type": "code",
   "execution_count": 153,
   "metadata": {
    "colab": {
     "base_uri": "https://localhost:8080/"
    },
    "id": "lRyIgWFGepkP",
    "outputId": "60868485-c309-4341-91bb-7aada3b3cd7b"
   },
   "outputs": [
    {
     "data": {
      "text/plain": [
       "array(['Meaning of NAICS code', 'Total for all sectors',\n",
       "       'Agriculture, forestry, fishing and hunting',\n",
       "       'Mining, quarrying, and oil and gas extraction', 'Utilities',\n",
       "       'Construction', 'Manufacturing', 'Wholesale trade', 'Retail trade',\n",
       "       'Transportation and warehousing', 'Information',\n",
       "       'Finance and insurance', 'Real estate and rental and leasing',\n",
       "       'Professional, scientific, and technical services',\n",
       "       'Administrative and support and waste management and remediation services',\n",
       "       'Educational services', 'Health care and social assistance',\n",
       "       'Arts, entertainment, and recreation',\n",
       "       'Accommodation and food services',\n",
       "       'Other services (except public administration)',\n",
       "       'Management of companies and enterprises',\n",
       "       'Industries not classified'], dtype=object)"
      ]
     },
     "execution_count": 153,
     "metadata": {},
     "output_type": "execute_result"
    }
   ],
   "source": [
    "# Types of Sectors\n",
    "sector_data['NAICS2017_LABEL'].unique()"
   ]
  },
  {
   "cell_type": "code",
   "execution_count": 154,
   "metadata": {
    "colab": {
     "base_uri": "https://localhost:8080/"
    },
    "id": "RmVw-OR7evAr",
    "outputId": "0c21db7a-42a4-42fe-d4cc-8e4b380db0b6"
   },
   "outputs": [
    {
     "data": {
      "text/plain": [
       "13       298\n",
       "7        295\n",
       "10       288\n",
       "8        280\n",
       "16       280\n",
       "        ... \n",
       "14459      1\n",
       "14870      1\n",
       "6806       1\n",
       "5854       1\n",
       "3493       1\n",
       "Name: EMP, Length: 9966, dtype: int64"
      ]
     },
     "execution_count": 154,
     "metadata": {},
     "output_type": "execute_result"
    }
   ],
   "source": [
    "temp = sector_data[sector_data['EMPSZES_LABEL'] == 'All establishments']\n",
    "temp['EMP'].value_counts()"
   ]
  },
  {
   "cell_type": "code",
   "execution_count": 155,
   "metadata": {
    "colab": {
     "base_uri": "https://localhost:8080/",
     "height": 419
    },
    "id": "nwfRZV30hYba",
    "outputId": "083f3f33-60e4-458f-bd5f-f53af091420b"
   },
   "outputs": [
    {
     "data": {
      "text/html": [
       "<div>\n",
       "<style scoped>\n",
       "    .dataframe tbody tr th:only-of-type {\n",
       "        vertical-align: middle;\n",
       "    }\n",
       "\n",
       "    .dataframe tbody tr th {\n",
       "        vertical-align: top;\n",
       "    }\n",
       "\n",
       "    .dataframe thead th {\n",
       "        text-align: right;\n",
       "    }\n",
       "</style>\n",
       "<table border=\"1\" class=\"dataframe\">\n",
       "  <thead>\n",
       "    <tr style=\"text-align: right;\">\n",
       "      <th></th>\n",
       "      <th>GEO_ID</th>\n",
       "      <th>EMP</th>\n",
       "      <th>PAYANN</th>\n",
       "    </tr>\n",
       "  </thead>\n",
       "  <tbody>\n",
       "    <tr>\n",
       "      <th>1</th>\n",
       "      <td>0500000US01001</td>\n",
       "      <td>11397</td>\n",
       "      <td>373865</td>\n",
       "    </tr>\n",
       "    <tr>\n",
       "      <th>75</th>\n",
       "      <td>0500000US01003</td>\n",
       "      <td>64354</td>\n",
       "      <td>2212640</td>\n",
       "    </tr>\n",
       "    <tr>\n",
       "      <th>190</th>\n",
       "      <td>0500000US01005</td>\n",
       "      <td>6980</td>\n",
       "      <td>248131</td>\n",
       "    </tr>\n",
       "    <tr>\n",
       "      <th>248</th>\n",
       "      <td>0500000US01007</td>\n",
       "      <td>3519</td>\n",
       "      <td>145171</td>\n",
       "    </tr>\n",
       "    <tr>\n",
       "      <th>304</th>\n",
       "      <td>0500000US01009</td>\n",
       "      <td>6673</td>\n",
       "      <td>219763</td>\n",
       "    </tr>\n",
       "    <tr>\n",
       "      <th>...</th>\n",
       "      <td>...</td>\n",
       "      <td>...</td>\n",
       "      <td>...</td>\n",
       "    </tr>\n",
       "    <tr>\n",
       "      <th>225603</th>\n",
       "      <td>0500000US72151</td>\n",
       "      <td>1487</td>\n",
       "      <td>28810</td>\n",
       "    </tr>\n",
       "    <tr>\n",
       "      <th>225634</th>\n",
       "      <td>0500000US72153</td>\n",
       "      <td>4040</td>\n",
       "      <td>79006</td>\n",
       "    </tr>\n",
       "    <tr>\n",
       "      <th>225687</th>\n",
       "      <td>0500000US78010</td>\n",
       "      <td>10503</td>\n",
       "      <td>421174</td>\n",
       "    </tr>\n",
       "    <tr>\n",
       "      <th>225770</th>\n",
       "      <td>0500000US78020</td>\n",
       "      <td>1504</td>\n",
       "      <td>59440</td>\n",
       "    </tr>\n",
       "    <tr>\n",
       "      <th>225808</th>\n",
       "      <td>0500000US78030</td>\n",
       "      <td>13277</td>\n",
       "      <td>533917</td>\n",
       "    </tr>\n",
       "  </tbody>\n",
       "</table>\n",
       "<p>3244 rows × 3 columns</p>\n",
       "</div>"
      ],
      "text/plain": [
       "                GEO_ID    EMP   PAYANN\n",
       "1       0500000US01001  11397   373865\n",
       "75      0500000US01003  64354  2212640\n",
       "190     0500000US01005   6980   248131\n",
       "248     0500000US01007   3519   145171\n",
       "304     0500000US01009   6673   219763\n",
       "...                ...    ...      ...\n",
       "225603  0500000US72151   1487    28810\n",
       "225634  0500000US72153   4040    79006\n",
       "225687  0500000US78010  10503   421174\n",
       "225770  0500000US78020   1504    59440\n",
       "225808  0500000US78030  13277   533917\n",
       "\n",
       "[3244 rows x 3 columns]"
      ]
     },
     "execution_count": 155,
     "metadata": {},
     "output_type": "execute_result"
    }
   ],
   "source": [
    "temp2 = temp[temp['NAICS2017_LABEL'] == 'Total for all sectors']\n",
    "temp2 = temp2[['GEO_ID','EMP','PAYANN']]\n",
    "temp2"
   ]
  },
  {
   "cell_type": "code",
   "execution_count": 156,
   "metadata": {
    "id": "q5E804X2iKAC"
   },
   "outputs": [],
   "source": [
    "temp3 = pd.merge(temp, temp2, on='GEO_ID')\n",
    "\n",
    "temp3['Employement_%'] = (temp3['EMP_x'].astype('int64') / temp3['EMP_y'].astype('int64') * 100)"
   ]
  },
  {
   "cell_type": "code",
   "execution_count": 157,
   "metadata": {
    "id": "_NeQvw5w5qok"
   },
   "outputs": [],
   "source": [
    "\n",
    "temp4 = temp3[temp3['NAICS2017_LABEL'].isin(['Accommodation and food services',\n",
    "                                     'Finance and insurance',\n",
    "                                     'Health care and social assistance',\n",
    "                                     'Manufacturing', \n",
    "                                     'Real estate and rental and leasing',\n",
    "                                     'Retail trade', \n",
    "                                     'Transportation and warehousing'])]\n",
    "temp01 = temp4.groupby('NAME').sum()"
   ]
  },
  {
   "cell_type": "code",
   "execution_count": 158,
   "metadata": {
    "id": "OQ5uKEWH8c7W"
   },
   "outputs": [],
   "source": [
    "df = temp01.sort_values('Employement_%',ascending=False)\n",
    "temp6 = pd.merge(temp[temp['NAICS2017_LABEL']=='Total for all sectors'][['NAME','EMP']],df,on='NAME')"
   ]
  },
  {
   "cell_type": "code",
   "execution_count": 159,
   "metadata": {
    "id": "BcueIbce_Aj-"
   },
   "outputs": [
    {
     "data": {
      "text/html": [
       "<div>\n",
       "<style scoped>\n",
       "    .dataframe tbody tr th:only-of-type {\n",
       "        vertical-align: middle;\n",
       "    }\n",
       "\n",
       "    .dataframe tbody tr th {\n",
       "        vertical-align: top;\n",
       "    }\n",
       "\n",
       "    .dataframe thead th {\n",
       "        text-align: right;\n",
       "    }\n",
       "</style>\n",
       "<table border=\"1\" class=\"dataframe\">\n",
       "  <thead>\n",
       "    <tr style=\"text-align: right;\">\n",
       "      <th></th>\n",
       "      <th>NAME</th>\n",
       "      <th>EMP</th>\n",
       "      <th>Employement_%</th>\n",
       "    </tr>\n",
       "  </thead>\n",
       "  <tbody>\n",
       "    <tr>\n",
       "      <th>0</th>\n",
       "      <td>Autauga County, Alabama</td>\n",
       "      <td>11397</td>\n",
       "      <td>73.738703</td>\n",
       "    </tr>\n",
       "    <tr>\n",
       "      <th>1</th>\n",
       "      <td>Baldwin County, Alabama</td>\n",
       "      <td>64354</td>\n",
       "      <td>67.947602</td>\n",
       "    </tr>\n",
       "    <tr>\n",
       "      <th>2</th>\n",
       "      <td>Barbour County, Alabama</td>\n",
       "      <td>6980</td>\n",
       "      <td>84.326648</td>\n",
       "    </tr>\n",
       "    <tr>\n",
       "      <th>3</th>\n",
       "      <td>Bibb County, Alabama</td>\n",
       "      <td>3519</td>\n",
       "      <td>61.352657</td>\n",
       "    </tr>\n",
       "    <tr>\n",
       "      <th>4</th>\n",
       "      <td>Blount County, Alabama</td>\n",
       "      <td>6673</td>\n",
       "      <td>67.630751</td>\n",
       "    </tr>\n",
       "    <tr>\n",
       "      <th>...</th>\n",
       "      <td>...</td>\n",
       "      <td>...</td>\n",
       "      <td>...</td>\n",
       "    </tr>\n",
       "    <tr>\n",
       "      <th>3226</th>\n",
       "      <td>Yabucoa Municipio, Puerto Rico</td>\n",
       "      <td>1487</td>\n",
       "      <td>65.366510</td>\n",
       "    </tr>\n",
       "    <tr>\n",
       "      <th>3227</th>\n",
       "      <td>Yauco Municipio, Puerto Rico</td>\n",
       "      <td>4040</td>\n",
       "      <td>86.064356</td>\n",
       "    </tr>\n",
       "    <tr>\n",
       "      <th>3228</th>\n",
       "      <td>St. Croix Island, United States Virgin Islands</td>\n",
       "      <td>10503</td>\n",
       "      <td>66.314386</td>\n",
       "    </tr>\n",
       "    <tr>\n",
       "      <th>3229</th>\n",
       "      <td>St. John Island, United States Virgin Islands</td>\n",
       "      <td>1504</td>\n",
       "      <td>74.002660</td>\n",
       "    </tr>\n",
       "    <tr>\n",
       "      <th>3230</th>\n",
       "      <td>St. Thomas Island, United States Virgin Islands</td>\n",
       "      <td>13277</td>\n",
       "      <td>65.270769</td>\n",
       "    </tr>\n",
       "  </tbody>\n",
       "</table>\n",
       "<p>3231 rows × 3 columns</p>\n",
       "</div>"
      ],
      "text/plain": [
       "                                                 NAME    EMP  Employement_%\n",
       "0                             Autauga County, Alabama  11397      73.738703\n",
       "1                             Baldwin County, Alabama  64354      67.947602\n",
       "2                             Barbour County, Alabama   6980      84.326648\n",
       "3                                Bibb County, Alabama   3519      61.352657\n",
       "4                              Blount County, Alabama   6673      67.630751\n",
       "...                                               ...    ...            ...\n",
       "3226                   Yabucoa Municipio, Puerto Rico   1487      65.366510\n",
       "3227                     Yauco Municipio, Puerto Rico   4040      86.064356\n",
       "3228   St. Croix Island, United States Virgin Islands  10503      66.314386\n",
       "3229    St. John Island, United States Virgin Islands   1504      74.002660\n",
       "3230  St. Thomas Island, United States Virgin Islands  13277      65.270769\n",
       "\n",
       "[3231 rows x 3 columns]"
      ]
     },
     "execution_count": 159,
     "metadata": {},
     "output_type": "execute_result"
    }
   ],
   "source": [
    "temp6['EMP'] = temp6['EMP'].astype('int64')\n",
    "temp6"
   ]
  },
  {
   "cell_type": "code",
   "execution_count": 160,
   "metadata": {
    "colab": {
     "base_uri": "https://localhost:8080/",
     "height": 419
    },
    "id": "iMFmIbbw_Alo",
    "outputId": "677cd5a5-d866-4d77-fb7a-dc08e001d07a"
   },
   "outputs": [
    {
     "data": {
      "text/html": [
       "<div>\n",
       "<style scoped>\n",
       "    .dataframe tbody tr th:only-of-type {\n",
       "        vertical-align: middle;\n",
       "    }\n",
       "\n",
       "    .dataframe tbody tr th {\n",
       "        vertical-align: top;\n",
       "    }\n",
       "\n",
       "    .dataframe thead th {\n",
       "        text-align: right;\n",
       "    }\n",
       "</style>\n",
       "<table border=\"1\" class=\"dataframe\">\n",
       "  <thead>\n",
       "    <tr style=\"text-align: right;\">\n",
       "      <th></th>\n",
       "      <th>NAME</th>\n",
       "      <th>EMP</th>\n",
       "      <th>Employement_%</th>\n",
       "    </tr>\n",
       "  </thead>\n",
       "  <tbody>\n",
       "    <tr>\n",
       "      <th>204</th>\n",
       "      <td>Los Angeles County, California</td>\n",
       "      <td>3869073</td>\n",
       "      <td>56.779337</td>\n",
       "    </tr>\n",
       "    <tr>\n",
       "      <th>608</th>\n",
       "      <td>Cook County, Illinois</td>\n",
       "      <td>2413447</td>\n",
       "      <td>57.800565</td>\n",
       "    </tr>\n",
       "    <tr>\n",
       "      <th>1849</th>\n",
       "      <td>New York County, New York</td>\n",
       "      <td>2276786</td>\n",
       "      <td>46.591116</td>\n",
       "    </tr>\n",
       "    <tr>\n",
       "      <th>2613</th>\n",
       "      <td>Harris County, Texas</td>\n",
       "      <td>2057494</td>\n",
       "      <td>52.024890</td>\n",
       "    </tr>\n",
       "    <tr>\n",
       "      <th>103</th>\n",
       "      <td>Maricopa County, Arizona</td>\n",
       "      <td>1748608</td>\n",
       "      <td>59.461297</td>\n",
       "    </tr>\n",
       "    <tr>\n",
       "      <th>...</th>\n",
       "      <td>...</td>\n",
       "      <td>...</td>\n",
       "      <td>...</td>\n",
       "    </tr>\n",
       "    <tr>\n",
       "      <th>2730</th>\n",
       "      <td>Terrell County, Texas</td>\n",
       "      <td>49</td>\n",
       "      <td>44.897959</td>\n",
       "    </tr>\n",
       "    <tr>\n",
       "      <th>1698</th>\n",
       "      <td>Keya Paha County, Nebraska</td>\n",
       "      <td>44</td>\n",
       "      <td>43.181818</td>\n",
       "    </tr>\n",
       "    <tr>\n",
       "      <th>1704</th>\n",
       "      <td>Loup County, Nebraska</td>\n",
       "      <td>43</td>\n",
       "      <td>34.883721</td>\n",
       "    </tr>\n",
       "    <tr>\n",
       "      <th>1797</th>\n",
       "      <td>Harding County, New Mexico</td>\n",
       "      <td>36</td>\n",
       "      <td>41.666667</td>\n",
       "    </tr>\n",
       "    <tr>\n",
       "      <th>1728</th>\n",
       "      <td>Sioux County, Nebraska</td>\n",
       "      <td>31</td>\n",
       "      <td>61.290323</td>\n",
       "    </tr>\n",
       "  </tbody>\n",
       "</table>\n",
       "<p>3231 rows × 3 columns</p>\n",
       "</div>"
      ],
      "text/plain": [
       "                                NAME      EMP  Employement_%\n",
       "204   Los Angeles County, California  3869073      56.779337\n",
       "608            Cook County, Illinois  2413447      57.800565\n",
       "1849       New York County, New York  2276786      46.591116\n",
       "2613            Harris County, Texas  2057494      52.024890\n",
       "103         Maricopa County, Arizona  1748608      59.461297\n",
       "...                              ...      ...            ...\n",
       "2730           Terrell County, Texas       49      44.897959\n",
       "1698      Keya Paha County, Nebraska       44      43.181818\n",
       "1704           Loup County, Nebraska       43      34.883721\n",
       "1797      Harding County, New Mexico       36      41.666667\n",
       "1728          Sioux County, Nebraska       31      61.290323\n",
       "\n",
       "[3231 rows x 3 columns]"
      ]
     },
     "execution_count": 160,
     "metadata": {},
     "output_type": "execute_result"
    }
   ],
   "source": [
    "temp6.sort_values(['EMP','Employement_%'], ascending=False)"
   ]
  },
  {
   "cell_type": "code",
   "execution_count": 161,
   "metadata": {
    "id": "VwQ8YZaf_ArJ"
   },
   "outputs": [],
   "source": [
    "#temp6[temp6['EMP'] > 100000]\n",
    "import numpy as np\n",
    "cutoff = np.percentile(temp6['EMP'],99)"
   ]
  },
  {
   "cell_type": "code",
   "execution_count": 162,
   "metadata": {},
   "outputs": [],
   "source": [
    "top_cities = temp6[temp6['EMP'] >= cutoff].sort_values('Employement_%',ascending=False).head(20)\n",
    "top_cities = top_cities.reset_index(drop = True)\n"
   ]
  },
  {
   "cell_type": "code",
   "execution_count": 163,
   "metadata": {},
   "outputs": [
    {
     "name": "stdout",
     "output_type": "stream",
     "text": [
      "                                NAME     EMP  Employement_%  \\\n",
      "0             Kings County, New York  655714      68.003123   \n",
      "1               Clark County, Nevada  879628      66.577917   \n",
      "2  San Bernardino County, California  617828      65.889536   \n",
      "3             Wayne County, Michigan  659107      65.137527   \n",
      "4              Tarrant County, Texas  805016      62.261868   \n",
      "\n",
      "   infection_proportion  \n",
      "0              0.029602  \n",
      "1              0.036036  \n",
      "2              0.029525  \n",
      "3              0.023855  \n",
      "4              0.031776  \n"
     ]
    }
   ],
   "source": [
    "infection_summary = pd.read_csv('SIR_summary.csv')\n",
    "\n",
    "infection_summary_dictionary = {\n",
    "    \"Kings County, New York\":\"Kings New York\",\n",
    "    \"Clark County, Nevada\":\"Clark Nevada\",\n",
    "    \"San Bernardino County, California\":\"San Bernardino California\",\n",
    "    \"Wayne County, Michigan\":\"Wayne Michigan\",\n",
    "    \"Tarrant County, Texas\":\"Tarrant Texas\",\n",
    "    \"Franklin County, Ohio\":\"Franklin Ohio\",\n",
    "    \"Cuyahoga County, Ohio\":\"Cuyahoga Ohio\",\n",
    "    \"Miami-Dade County, Florida\":\"Miami-Dade Florida\",\n",
    "    \"Bexar County, Texas\":\"Bexar Texas\",\n",
    "    \"Maricopa County, Arizona\":\"Maricopa Arizona\",\n",
    "    \"Cook County, Illinois\":\"Cook Illinois\",\n",
    "    \"Los Angeles County, California\":\"Los Angeles California\",\n",
    "    \"Philadelphia County, Pennsylvania\":\"Philadelphia Pennsylvania\",\n",
    "    \"San Diego County, California\":\"San Diego California\",\n",
    "    \"Suffolk County, Massachusetts\":\"Suffolk Massachusetts\",\n",
    "    \"Broward County, Florida\":\"Broward Florida\",\n",
    "    \"Hennepin County, Minnesota\":\"Hennepin Minnesota\",\n",
    "    \"Allegheny County, Pennsylvania\":\"Allegheny Pennsylvania\",\n",
    "    \"Alameda County, California\":\"Alameda California\",\n",
    "    \"Orange County, California\":\"Orange California\"\n",
    "}\n",
    "\n",
    "top_cities['infection_proportion'] = 0\n",
    "for city in infection_summary_dictionary:\n",
    "    proportion = infection_summary.loc[infection_summary['County']==infection_summary_dictionary[city],'Infected Proportion'].values[0]\n",
    "    \n",
    "    top_cities.at[top_cities['NAME'] == city,'infection_proportion'] = proportion\n",
    "top_cities.to_csv(\"Risk Metric Per County.csv\")\n",
    "top_cities\n",
    "print(top_cities.head())"
   ]
  },
  {
   "cell_type": "code",
   "execution_count": 164,
   "metadata": {},
   "outputs": [
    {
     "data": {
      "text/html": [
       "<table class=\"simpletable\">\n",
       "<caption>OLS Regression Results</caption>\n",
       "<tr>\n",
       "  <th>Dep. Variable:</th>            <td>y</td>        <th>  R-squared (uncentered):</th>      <td>   0.866</td>\n",
       "</tr>\n",
       "<tr>\n",
       "  <th>Model:</th>                   <td>OLS</td>       <th>  Adj. R-squared (uncentered):</th> <td>   0.859</td>\n",
       "</tr>\n",
       "<tr>\n",
       "  <th>Method:</th>             <td>Least Squares</td>  <th>  F-statistic:       </th>          <td>   123.0</td>\n",
       "</tr>\n",
       "<tr>\n",
       "  <th>Date:</th>             <td>Sun, 01 Nov 2020</td> <th>  Prob (F-statistic):</th>          <td>9.71e-10</td>\n",
       "</tr>\n",
       "<tr>\n",
       "  <th>Time:</th>                 <td>07:12:03</td>     <th>  Log-Likelihood:    </th>          <td>  60.504</td>\n",
       "</tr>\n",
       "<tr>\n",
       "  <th>No. Observations:</th>      <td>    20</td>      <th>  AIC:               </th>          <td>  -119.0</td>\n",
       "</tr>\n",
       "<tr>\n",
       "  <th>Df Residuals:</th>          <td>    19</td>      <th>  BIC:               </th>          <td>  -118.0</td>\n",
       "</tr>\n",
       "<tr>\n",
       "  <th>Df Model:</th>              <td>     1</td>      <th>                     </th>              <td> </td>   \n",
       "</tr>\n",
       "<tr>\n",
       "  <th>Covariance Type:</th>      <td>nonrobust</td>    <th>                     </th>              <td> </td>   \n",
       "</tr>\n",
       "</table>\n",
       "<table class=\"simpletable\">\n",
       "<tr>\n",
       "   <td></td>     <th>coef</th>     <th>std err</th>      <th>t</th>      <th>P>|t|</th>  <th>[0.025</th>    <th>0.975]</th>  \n",
       "</tr>\n",
       "<tr>\n",
       "  <th>x1</th> <td>    0.0005</td> <td> 4.53e-05</td> <td>   11.089</td> <td> 0.000</td> <td>    0.000</td> <td>    0.001</td>\n",
       "</tr>\n",
       "</table>\n",
       "<table class=\"simpletable\">\n",
       "<tr>\n",
       "  <th>Omnibus:</th>       <td>15.745</td> <th>  Durbin-Watson:     </th> <td>   1.911</td>\n",
       "</tr>\n",
       "<tr>\n",
       "  <th>Prob(Omnibus):</th> <td> 0.000</td> <th>  Jarque-Bera (JB):  </th> <td>  16.032</td>\n",
       "</tr>\n",
       "<tr>\n",
       "  <th>Skew:</th>          <td> 1.538</td> <th>  Prob(JB):          </th> <td>0.000330</td>\n",
       "</tr>\n",
       "<tr>\n",
       "  <th>Kurtosis:</th>      <td> 6.127</td> <th>  Cond. No.          </th> <td>    1.00</td>\n",
       "</tr>\n",
       "</table><br/><br/>Warnings:<br/>[1] Standard Errors assume that the covariance matrix of the errors is correctly specified."
      ],
      "text/plain": [
       "<class 'statsmodels.iolib.summary.Summary'>\n",
       "\"\"\"\n",
       "                                 OLS Regression Results                                \n",
       "=======================================================================================\n",
       "Dep. Variable:                      y   R-squared (uncentered):                   0.866\n",
       "Model:                            OLS   Adj. R-squared (uncentered):              0.859\n",
       "Method:                 Least Squares   F-statistic:                              123.0\n",
       "Date:                Sun, 01 Nov 2020   Prob (F-statistic):                    9.71e-10\n",
       "Time:                        07:12:03   Log-Likelihood:                          60.504\n",
       "No. Observations:                  20   AIC:                                     -119.0\n",
       "Df Residuals:                      19   BIC:                                     -118.0\n",
       "Df Model:                           1                                                  \n",
       "Covariance Type:            nonrobust                                                  \n",
       "==============================================================================\n",
       "                 coef    std err          t      P>|t|      [0.025      0.975]\n",
       "------------------------------------------------------------------------------\n",
       "x1             0.0005   4.53e-05     11.089      0.000       0.000       0.001\n",
       "==============================================================================\n",
       "Omnibus:                       15.745   Durbin-Watson:                   1.911\n",
       "Prob(Omnibus):                  0.000   Jarque-Bera (JB):               16.032\n",
       "Skew:                           1.538   Prob(JB):                     0.000330\n",
       "Kurtosis:                       6.127   Cond. No.                         1.00\n",
       "==============================================================================\n",
       "\n",
       "Warnings:\n",
       "[1] Standard Errors assume that the covariance matrix of the errors is correctly specified.\n",
       "\"\"\""
      ]
     },
     "execution_count": 164,
     "metadata": {},
     "output_type": "execute_result"
    },
    {
     "data": {
      "image/png": "[encoded data removed]",
      "text/plain": [
       "<Figure size 432x288 with 1 Axes>"
      ]
     },
     "metadata": {
      "needs_background": "light"
     },
     "output_type": "display_data"
    }
   ],
   "source": [
    "\n",
    "plt.scatter(top_cities['Employement_%'],top_cities['infection_proportion'])\n",
    "plt.xlabel(\"Proportion of workforce in high-risk industries\")\n",
    "plt.ylabel(\"Proportion of population infected\")\n",
    "X = top_cities['Employement_%'].values.reshape(-1, 1) \n",
    "y = top_cities['infection_proportion'].values.reshape(-1, 1) \n",
    "\n",
    "from statsmodels.api import OLS\n",
    "OLS(y,X).fit().summary()\n",
    "#Significant relationship between exposure in high-risk industries vs proportion of population infected"
   ]
  },
  {
   "cell_type": "code",
   "execution_count": 165,
   "metadata": {},
   "outputs": [],
   "source": [
    "covid_dictionary = {\n",
    "    \"Kings County, New York\":\"Kings\",\n",
    "    \"Clark County, Nevada\":\"Clark\",\n",
    "    \"San Bernardino County, California\":\"San Bernardino\",\n",
    "    \"Wayne County, Michigan\":\"Wayne\",\n",
    "    \"Tarrant County, Texas\":\"Tarrant\",\n",
    "    \"Franklin County, Ohio\":\"Franklin\",\n",
    "    \"Cuyahoga County, Ohio\":\"Cuyahoga\",\n",
    "    \"Miami-Dade County, Florida\":\"Miami-Dade\",\n",
    "    \"Bexar County, Texas\":\"Bexar\",\n",
    "    \"Maricopa County, Arizona\":\"Maricopa\",\n",
    "    \"Cook County, Illinois\":\"Cook\",\n",
    "    \"Los Angeles County, California\":\"Los Angeles\",\n",
    "    \"Philadelphia County, Pennsylvania\":\"Philadelphia\",\n",
    "    \"San Diego County, California\":\"San Diego\",\n",
    "    \"Suffolk County, Massachusetts\":\"Suffolk\",\n",
    "    \"Broward County, Florida\":\"Broward\",\n",
    "    \"Hennepin County, Minnesota\":\"Hennepin\",\n",
    "    \"Allegheny County, Pennsylvania\":\"Allegheny\",\n",
    "    \"Alameda County, California\":\"Alameda\",\n",
    "    \"Orange County, California\":\"Orange\"\n",
    "}\n",
    "\n",
    "ue_dictionary = {\n",
    "    \"Kings County, New York\":\"NYKING7URN.csv\",\n",
    "    \"Clark County, Nevada\":\"NVCLAR3URN.csv\",\n",
    "    \"San Bernardino County, California\":\"CASANB1URN.csv\",\n",
    "    \"Wayne County, Michigan\":\"MIWAYN3URN.csv\",\n",
    "    \"Tarrant County, Texas\":\"TXTARR9URN.csv\",\n",
    "    \"Franklin County, Ohio\":\"OHFRAN0URN.csv\",\n",
    "    \"Cuyahoga County, Ohio\":\"OHCUYA5URN.csv\",\n",
    "    \"Miami-Dade County, Florida\":\"FLMIAM6URN.csv\",\n",
    "    \"Bexar County, Texas\":\"TXBEXA9URN.csv\",\n",
    "    \"Maricopa County, Arizona\":\"AZMARI3URN.csv\",\n",
    "    \"Cook County, Illinois\":\"ILCOOK1URN.csv\",\n",
    "    \"Los Angeles County, California\":\"CALOSA7URN.csv\",\n",
    "    \"Philadelphia County, Pennsylvania\":\"PAPHIL5URN.csv\",\n",
    "    \"San Diego County, California\":\"CASAND5URN.csv\",\n",
    "    \"Suffolk County, Massachusetts\":\"MASUFF5URN.csv\",\n",
    "    \"Broward County, Florida\":\"FLBROW5URN.csv\",\n",
    "    \"Hennepin County, Minnesota\":\"MNHENN3URN.csv\",\n",
    "    \"Allegheny County, Pennsylvania\":\"PAALLE3URN.csv\",\n",
    "    \"Alameda County, California\":\"CAALAM1URN.csv\",\n",
    "    \"Orange County, California\":\"CAORAN7URN.csv\"\n",
    "}\n",
    "\n"
   ]
  },
  {
   "cell_type": "code",
   "execution_count": 166,
   "metadata": {},
   "outputs": [],
   "source": [
    "master = pd.DataFrame(columns=['DATE'])\n",
    "\n",
    "for county,file in zip(ue_dictionary.keys(),ue_dictionary.values()):\n",
    "    temp = pd.read_csv('unemployment_data/'+file)\n",
    "    column_name = file.split('.')[0]\n",
    "    temp = temp.rename(columns={column_name: \"ue_rate\"})\n",
    "    temp['County'] = county\n",
    "    if master.empty == True:\n",
    "        master = temp\n",
    "    else:\n",
    "        master = master.append(temp,ignore_index=True)\n",
    "\n",
    "master.reset_index(inplace=True)\n"
   ]
  },
  {
   "cell_type": "code",
   "execution_count": 167,
   "metadata": {},
   "outputs": [],
   "source": [
    "master['DATE'] = pd.to_datetime(master['DATE'])\n",
    "\n",
    "master = master[master['DATE'] >= pd.to_datetime('2020-01-01')]"
   ]
  },
  {
   "cell_type": "code",
   "execution_count": 168,
   "metadata": {},
   "outputs": [
    {
     "data": {
      "text/html": [
       "<div>\n",
       "<style scoped>\n",
       "    .dataframe tbody tr th:only-of-type {\n",
       "        vertical-align: middle;\n",
       "    }\n",
       "\n",
       "    .dataframe tbody tr th {\n",
       "        vertical-align: top;\n",
       "    }\n",
       "\n",
       "    .dataframe thead th {\n",
       "        text-align: right;\n",
       "    }\n",
       "</style>\n",
       "<table border=\"1\" class=\"dataframe\">\n",
       "  <thead>\n",
       "    <tr style=\"text-align: right;\">\n",
       "      <th></th>\n",
       "      <th>index</th>\n",
       "      <th>DATE</th>\n",
       "      <th>ue_rate</th>\n",
       "      <th>County</th>\n",
       "    </tr>\n",
       "  </thead>\n",
       "  <tbody>\n",
       "    <tr>\n",
       "      <th>4</th>\n",
       "      <td>4</td>\n",
       "      <td>2020-01-01</td>\n",
       "      <td>3.6</td>\n",
       "      <td>Kings County, New York</td>\n",
       "    </tr>\n",
       "    <tr>\n",
       "      <th>5</th>\n",
       "      <td>5</td>\n",
       "      <td>2020-02-01</td>\n",
       "      <td>3.5</td>\n",
       "      <td>Kings County, New York</td>\n",
       "    </tr>\n",
       "    <tr>\n",
       "      <th>6</th>\n",
       "      <td>6</td>\n",
       "      <td>2020-03-01</td>\n",
       "      <td>4.2</td>\n",
       "      <td>Kings County, New York</td>\n",
       "    </tr>\n",
       "    <tr>\n",
       "      <th>7</th>\n",
       "      <td>7</td>\n",
       "      <td>2020-04-01</td>\n",
       "      <td>14.7</td>\n",
       "      <td>Kings County, New York</td>\n",
       "    </tr>\n",
       "    <tr>\n",
       "      <th>8</th>\n",
       "      <td>8</td>\n",
       "      <td>2020-05-01</td>\n",
       "      <td>18.2</td>\n",
       "      <td>Kings County, New York</td>\n",
       "    </tr>\n",
       "    <tr>\n",
       "      <th>...</th>\n",
       "      <td>...</td>\n",
       "      <td>...</td>\n",
       "      <td>...</td>\n",
       "      <td>...</td>\n",
       "    </tr>\n",
       "    <tr>\n",
       "      <th>7019</th>\n",
       "      <td>7019</td>\n",
       "      <td>2020-05-01</td>\n",
       "      <td>14.7</td>\n",
       "      <td>Orange County, California</td>\n",
       "    </tr>\n",
       "    <tr>\n",
       "      <th>7020</th>\n",
       "      <td>7020</td>\n",
       "      <td>2020-06-01</td>\n",
       "      <td>13.6</td>\n",
       "      <td>Orange County, California</td>\n",
       "    </tr>\n",
       "    <tr>\n",
       "      <th>7021</th>\n",
       "      <td>7021</td>\n",
       "      <td>2020-07-01</td>\n",
       "      <td>12.4</td>\n",
       "      <td>Orange County, California</td>\n",
       "    </tr>\n",
       "    <tr>\n",
       "      <th>7022</th>\n",
       "      <td>7022</td>\n",
       "      <td>2020-08-01</td>\n",
       "      <td>9.5</td>\n",
       "      <td>Orange County, California</td>\n",
       "    </tr>\n",
       "    <tr>\n",
       "      <th>7023</th>\n",
       "      <td>7023</td>\n",
       "      <td>2020-09-01</td>\n",
       "      <td>9.0</td>\n",
       "      <td>Orange County, California</td>\n",
       "    </tr>\n",
       "  </tbody>\n",
       "</table>\n",
       "<p>180 rows × 4 columns</p>\n",
       "</div>"
      ],
      "text/plain": [
       "      index       DATE  ue_rate                     County\n",
       "4         4 2020-01-01      3.6     Kings County, New York\n",
       "5         5 2020-02-01      3.5     Kings County, New York\n",
       "6         6 2020-03-01      4.2     Kings County, New York\n",
       "7         7 2020-04-01     14.7     Kings County, New York\n",
       "8         8 2020-05-01     18.2     Kings County, New York\n",
       "...     ...        ...      ...                        ...\n",
       "7019   7019 2020-05-01     14.7  Orange County, California\n",
       "7020   7020 2020-06-01     13.6  Orange County, California\n",
       "7021   7021 2020-07-01     12.4  Orange County, California\n",
       "7022   7022 2020-08-01      9.5  Orange County, California\n",
       "7023   7023 2020-09-01      9.0  Orange County, California\n",
       "\n",
       "[180 rows x 4 columns]"
      ]
     },
     "execution_count": 168,
     "metadata": {},
     "output_type": "execute_result"
    }
   ],
   "source": [
    "master"
   ]
  },
  {
   "cell_type": "code",
   "execution_count": 169,
   "metadata": {},
   "outputs": [
    {
     "data": {
      "text/html": [
       "<div>\n",
       "<style scoped>\n",
       "    .dataframe tbody tr th:only-of-type {\n",
       "        vertical-align: middle;\n",
       "    }\n",
       "\n",
       "    .dataframe tbody tr th {\n",
       "        vertical-align: top;\n",
       "    }\n",
       "\n",
       "    .dataframe thead th {\n",
       "        text-align: right;\n",
       "    }\n",
       "</style>\n",
       "<table border=\"1\" class=\"dataframe\">\n",
       "  <thead>\n",
       "    <tr style=\"text-align: right;\">\n",
       "      <th></th>\n",
       "      <th>Date</th>\n",
       "      <th>Kings County NY Cases</th>\n",
       "      <th>Kings County NY Deaths</th>\n",
       "    </tr>\n",
       "  </thead>\n",
       "  <tbody>\n",
       "    <tr>\n",
       "      <th>0</th>\n",
       "      <td>2020-01-22</td>\n",
       "      <td>0</td>\n",
       "      <td>0</td>\n",
       "    </tr>\n",
       "    <tr>\n",
       "      <th>1</th>\n",
       "      <td>2020-01-23</td>\n",
       "      <td>0</td>\n",
       "      <td>0</td>\n",
       "    </tr>\n",
       "    <tr>\n",
       "      <th>2</th>\n",
       "      <td>2020-01-24</td>\n",
       "      <td>0</td>\n",
       "      <td>0</td>\n",
       "    </tr>\n",
       "    <tr>\n",
       "      <th>3</th>\n",
       "      <td>2020-01-25</td>\n",
       "      <td>0</td>\n",
       "      <td>0</td>\n",
       "    </tr>\n",
       "    <tr>\n",
       "      <th>4</th>\n",
       "      <td>2020-01-26</td>\n",
       "      <td>0</td>\n",
       "      <td>0</td>\n",
       "    </tr>\n",
       "    <tr>\n",
       "      <th>...</th>\n",
       "      <td>...</td>\n",
       "      <td>...</td>\n",
       "      <td>...</td>\n",
       "    </tr>\n",
       "    <tr>\n",
       "      <th>278</th>\n",
       "      <td>2020-10-26</td>\n",
       "      <td>74703</td>\n",
       "      <td>7385</td>\n",
       "    </tr>\n",
       "    <tr>\n",
       "      <th>279</th>\n",
       "      <td>2020-10-27</td>\n",
       "      <td>74903</td>\n",
       "      <td>7387</td>\n",
       "    </tr>\n",
       "    <tr>\n",
       "      <th>280</th>\n",
       "      <td>2020-10-28</td>\n",
       "      <td>75169</td>\n",
       "      <td>7390</td>\n",
       "    </tr>\n",
       "    <tr>\n",
       "      <th>281</th>\n",
       "      <td>2020-10-29</td>\n",
       "      <td>75517</td>\n",
       "      <td>7393</td>\n",
       "    </tr>\n",
       "    <tr>\n",
       "      <th>282</th>\n",
       "      <td>2020-10-30</td>\n",
       "      <td>75779</td>\n",
       "      <td>7400</td>\n",
       "    </tr>\n",
       "  </tbody>\n",
       "</table>\n",
       "<p>283 rows × 3 columns</p>\n",
       "</div>"
      ],
      "text/plain": [
       "           Date  Kings County NY Cases  Kings County NY Deaths\n",
       "0    2020-01-22                      0                       0\n",
       "1    2020-01-23                      0                       0\n",
       "2    2020-01-24                      0                       0\n",
       "3    2020-01-25                      0                       0\n",
       "4    2020-01-26                      0                       0\n",
       "..          ...                    ...                     ...\n",
       "278  2020-10-26                  74703                    7385\n",
       "279  2020-10-27                  74903                    7387\n",
       "280  2020-10-28                  75169                    7390\n",
       "281  2020-10-29                  75517                    7393\n",
       "282  2020-10-30                  75779                    7400\n",
       "\n",
       "[283 rows x 3 columns]"
      ]
     },
     "execution_count": 169,
     "metadata": {},
     "output_type": "execute_result"
    }
   ],
   "source": [
    "vocid = pd.read_csv('cleaned_jhu_data.csv')\n",
    "vocid"
   ]
  },
  {
   "cell_type": "code",
   "execution_count": 170,
   "metadata": {},
   "outputs": [
    {
     "ename": "KeyError",
     "evalue": "'DATE'",
     "output_type": "error",
     "traceback": [
      "\u001b[1;31m---------------------------------------------------------------------------\u001b[0m",
      "\u001b[1;31mKeyError\u001b[0m                                  Traceback (most recent call last)",
      "\u001b[1;32m~\\anaconda3\\lib\\site-packages\\pandas\\core\\indexes\\base.py\u001b[0m in \u001b[0;36mget_loc\u001b[1;34m(self, key, method, tolerance)\u001b[0m\n\u001b[0;32m   2645\u001b[0m             \u001b[1;32mtry\u001b[0m\u001b[1;33m:\u001b[0m\u001b[1;33m\u001b[0m\u001b[1;33m\u001b[0m\u001b[0m\n\u001b[1;32m-> 2646\u001b[1;33m                 \u001b[1;32mreturn\u001b[0m \u001b[0mself\u001b[0m\u001b[1;33m.\u001b[0m\u001b[0m_engine\u001b[0m\u001b[1;33m.\u001b[0m\u001b[0mget_loc\u001b[0m\u001b[1;33m(\u001b[0m\u001b[0mkey\u001b[0m\u001b[1;33m)\u001b[0m\u001b[1;33m\u001b[0m\u001b[1;33m\u001b[0m\u001b[0m\n\u001b[0m\u001b[0;32m   2647\u001b[0m             \u001b[1;32mexcept\u001b[0m \u001b[0mKeyError\u001b[0m\u001b[1;33m:\u001b[0m\u001b[1;33m\u001b[0m\u001b[1;33m\u001b[0m\u001b[0m\n",
      "\u001b[1;32mpandas\\_libs\\index.pyx\u001b[0m in \u001b[0;36mpandas._libs.index.IndexEngine.get_loc\u001b[1;34m()\u001b[0m\n",
      "\u001b[1;32mpandas\\_libs\\index.pyx\u001b[0m in \u001b[0;36mpandas._libs.index.IndexEngine.get_loc\u001b[1;34m()\u001b[0m\n",
      "\u001b[1;32mpandas\\_libs\\hashtable_class_helper.pxi\u001b[0m in \u001b[0;36mpandas._libs.hashtable.PyObjectHashTable.get_item\u001b[1;34m()\u001b[0m\n",
      "\u001b[1;32mpandas\\_libs\\hashtable_class_helper.pxi\u001b[0m in \u001b[0;36mpandas._libs.hashtable.PyObjectHashTable.get_item\u001b[1;34m()\u001b[0m\n",
      "\u001b[1;31mKeyError\u001b[0m: 'DATE'",
      "\nDuring handling of the above exception, another exception occurred:\n",
      "\u001b[1;31mKeyError\u001b[0m                                  Traceback (most recent call last)",
      "\u001b[1;32m<ipython-input-170-8ff36057a337>\u001b[0m in \u001b[0;36m<module>\u001b[1;34m\u001b[0m\n\u001b[0;32m      1\u001b[0m \u001b[0mvocid\u001b[0m \u001b[1;33m=\u001b[0m \u001b[0mvocid\u001b[0m\u001b[1;33m.\u001b[0m\u001b[0mrename\u001b[0m\u001b[1;33m(\u001b[0m\u001b[0mcolumns\u001b[0m\u001b[1;33m=\u001b[0m\u001b[1;33m{\u001b[0m\u001b[1;34m'Unnamed: 0'\u001b[0m\u001b[1;33m:\u001b[0m\u001b[1;34m'DATE'\u001b[0m\u001b[1;33m}\u001b[0m\u001b[1;33m)\u001b[0m\u001b[1;33m\u001b[0m\u001b[1;33m\u001b[0m\u001b[0m\n\u001b[1;32m----> 2\u001b[1;33m \u001b[0mvocid\u001b[0m\u001b[1;33m[\u001b[0m\u001b[1;34m'DATE'\u001b[0m\u001b[1;33m]\u001b[0m \u001b[1;33m=\u001b[0m \u001b[0mpd\u001b[0m\u001b[1;33m.\u001b[0m\u001b[0mto_datetime\u001b[0m\u001b[1;33m(\u001b[0m\u001b[0mvocid\u001b[0m\u001b[1;33m[\u001b[0m\u001b[1;34m'DATE'\u001b[0m\u001b[1;33m]\u001b[0m\u001b[1;33m)\u001b[0m\u001b[1;33m;\u001b[0m\u001b[1;33m\u001b[0m\u001b[1;33m\u001b[0m\u001b[0m\n\u001b[0m",
      "\u001b[1;32m~\\anaconda3\\lib\\site-packages\\pandas\\core\\frame.py\u001b[0m in \u001b[0;36m__getitem__\u001b[1;34m(self, key)\u001b[0m\n\u001b[0;32m   2798\u001b[0m             \u001b[1;32mif\u001b[0m \u001b[0mself\u001b[0m\u001b[1;33m.\u001b[0m\u001b[0mcolumns\u001b[0m\u001b[1;33m.\u001b[0m\u001b[0mnlevels\u001b[0m \u001b[1;33m>\u001b[0m \u001b[1;36m1\u001b[0m\u001b[1;33m:\u001b[0m\u001b[1;33m\u001b[0m\u001b[1;33m\u001b[0m\u001b[0m\n\u001b[0;32m   2799\u001b[0m                 \u001b[1;32mreturn\u001b[0m \u001b[0mself\u001b[0m\u001b[1;33m.\u001b[0m\u001b[0m_getitem_multilevel\u001b[0m\u001b[1;33m(\u001b[0m\u001b[0mkey\u001b[0m\u001b[1;33m)\u001b[0m\u001b[1;33m\u001b[0m\u001b[1;33m\u001b[0m\u001b[0m\n\u001b[1;32m-> 2800\u001b[1;33m             \u001b[0mindexer\u001b[0m \u001b[1;33m=\u001b[0m \u001b[0mself\u001b[0m\u001b[1;33m.\u001b[0m\u001b[0mcolumns\u001b[0m\u001b[1;33m.\u001b[0m\u001b[0mget_loc\u001b[0m\u001b[1;33m(\u001b[0m\u001b[0mkey\u001b[0m\u001b[1;33m)\u001b[0m\u001b[1;33m\u001b[0m\u001b[1;33m\u001b[0m\u001b[0m\n\u001b[0m\u001b[0;32m   2801\u001b[0m             \u001b[1;32mif\u001b[0m \u001b[0mis_integer\u001b[0m\u001b[1;33m(\u001b[0m\u001b[0mindexer\u001b[0m\u001b[1;33m)\u001b[0m\u001b[1;33m:\u001b[0m\u001b[1;33m\u001b[0m\u001b[1;33m\u001b[0m\u001b[0m\n\u001b[0;32m   2802\u001b[0m                 \u001b[0mindexer\u001b[0m \u001b[1;33m=\u001b[0m \u001b[1;33m[\u001b[0m\u001b[0mindexer\u001b[0m\u001b[1;33m]\u001b[0m\u001b[1;33m\u001b[0m\u001b[1;33m\u001b[0m\u001b[0m\n",
      "\u001b[1;32m~\\anaconda3\\lib\\site-packages\\pandas\\core\\indexes\\base.py\u001b[0m in \u001b[0;36mget_loc\u001b[1;34m(self, key, method, tolerance)\u001b[0m\n\u001b[0;32m   2646\u001b[0m                 \u001b[1;32mreturn\u001b[0m \u001b[0mself\u001b[0m\u001b[1;33m.\u001b[0m\u001b[0m_engine\u001b[0m\u001b[1;33m.\u001b[0m\u001b[0mget_loc\u001b[0m\u001b[1;33m(\u001b[0m\u001b[0mkey\u001b[0m\u001b[1;33m)\u001b[0m\u001b[1;33m\u001b[0m\u001b[1;33m\u001b[0m\u001b[0m\n\u001b[0;32m   2647\u001b[0m             \u001b[1;32mexcept\u001b[0m \u001b[0mKeyError\u001b[0m\u001b[1;33m:\u001b[0m\u001b[1;33m\u001b[0m\u001b[1;33m\u001b[0m\u001b[0m\n\u001b[1;32m-> 2648\u001b[1;33m                 \u001b[1;32mreturn\u001b[0m \u001b[0mself\u001b[0m\u001b[1;33m.\u001b[0m\u001b[0m_engine\u001b[0m\u001b[1;33m.\u001b[0m\u001b[0mget_loc\u001b[0m\u001b[1;33m(\u001b[0m\u001b[0mself\u001b[0m\u001b[1;33m.\u001b[0m\u001b[0m_maybe_cast_indexer\u001b[0m\u001b[1;33m(\u001b[0m\u001b[0mkey\u001b[0m\u001b[1;33m)\u001b[0m\u001b[1;33m)\u001b[0m\u001b[1;33m\u001b[0m\u001b[1;33m\u001b[0m\u001b[0m\n\u001b[0m\u001b[0;32m   2649\u001b[0m         \u001b[0mindexer\u001b[0m \u001b[1;33m=\u001b[0m \u001b[0mself\u001b[0m\u001b[1;33m.\u001b[0m\u001b[0mget_indexer\u001b[0m\u001b[1;33m(\u001b[0m\u001b[1;33m[\u001b[0m\u001b[0mkey\u001b[0m\u001b[1;33m]\u001b[0m\u001b[1;33m,\u001b[0m \u001b[0mmethod\u001b[0m\u001b[1;33m=\u001b[0m\u001b[0mmethod\u001b[0m\u001b[1;33m,\u001b[0m \u001b[0mtolerance\u001b[0m\u001b[1;33m=\u001b[0m\u001b[0mtolerance\u001b[0m\u001b[1;33m)\u001b[0m\u001b[1;33m\u001b[0m\u001b[1;33m\u001b[0m\u001b[0m\n\u001b[0;32m   2650\u001b[0m         \u001b[1;32mif\u001b[0m \u001b[0mindexer\u001b[0m\u001b[1;33m.\u001b[0m\u001b[0mndim\u001b[0m \u001b[1;33m>\u001b[0m \u001b[1;36m1\u001b[0m \u001b[1;32mor\u001b[0m \u001b[0mindexer\u001b[0m\u001b[1;33m.\u001b[0m\u001b[0msize\u001b[0m \u001b[1;33m>\u001b[0m \u001b[1;36m1\u001b[0m\u001b[1;33m:\u001b[0m\u001b[1;33m\u001b[0m\u001b[1;33m\u001b[0m\u001b[0m\n",
      "\u001b[1;32mpandas\\_libs\\index.pyx\u001b[0m in \u001b[0;36mpandas._libs.index.IndexEngine.get_loc\u001b[1;34m()\u001b[0m\n",
      "\u001b[1;32mpandas\\_libs\\index.pyx\u001b[0m in \u001b[0;36mpandas._libs.index.IndexEngine.get_loc\u001b[1;34m()\u001b[0m\n",
      "\u001b[1;32mpandas\\_libs\\hashtable_class_helper.pxi\u001b[0m in \u001b[0;36mpandas._libs.hashtable.PyObjectHashTable.get_item\u001b[1;34m()\u001b[0m\n",
      "\u001b[1;32mpandas\\_libs\\hashtable_class_helper.pxi\u001b[0m in \u001b[0;36mpandas._libs.hashtable.PyObjectHashTable.get_item\u001b[1;34m()\u001b[0m\n",
      "\u001b[1;31mKeyError\u001b[0m: 'DATE'"
     ]
    }
   ],
   "source": [
    "vocid = vocid.rename(columns={'Unnamed: 0':'DATE'})\n",
    "vocid['DATE'] = pd.to_datetime(vocid['DATE']);"
   ]
  },
  {
   "cell_type": "code",
   "execution_count": null,
   "metadata": {},
   "outputs": [],
   "source": [
    "vocid = vocid.groupby(vocid['DATE'].dt.month).sum().diff()\n"
   ]
  },
  {
   "cell_type": "code",
   "execution_count": null,
   "metadata": {},
   "outputs": [],
   "source": [
    "temp1 = vocid[['Kings New York Cases', 'Kings New York Deaths']]\n",
    "void"
   ]
  },
  {
   "cell_type": "markdown",
   "metadata": {},
   "source": [
    "County | DATE | UE_Rate | covid_cases | covid_deaths"
   ]
  },
  {
   "cell_type": "code",
   "execution_count": null,
   "metadata": {},
   "outputs": [],
   "source": [
    "vocid.to_csv('covid_aggr.csv')\n",
    "master.to_csv('ue_data.csv')"
   ]
  },
  {
   "cell_type": "code",
   "execution_count": null,
   "metadata": {},
   "outputs": [],
   "source": [
    "vocid"
   ]
  },
  {
   "cell_type": "code",
   "execution_count": null,
   "metadata": {},
   "outputs": [],
   "source": [
    "master_new = pd.read_csv('master.csv')\n"
   ]
  },
  {
   "cell_type": "code",
   "execution_count": null,
   "metadata": {},
   "outputs": [],
   "source": [
    "master_new"
   ]
  },
  {
   "cell_type": "code",
   "execution_count": null,
   "metadata": {},
   "outputs": [],
   "source": [
    "master_new = master_new[master_new['covid_cases']>2]\n",
    "\n",
    "plt.figure(num=None, figsize=(8, 6), dpi=80, facecolor='w', edgecolor='k')\n",
    "plt.scatter(np.log(master_new['diff_covid_cases']),master_new['ue_rate'])\n",
    "plt.legend()\n",
    "plt.ylabel('Unemployment Rate', fontsize=18)\n",
    "plt.xlabel('Log(Net New Covid Cases)', fontsize=18)"
   ]
  },
  {
   "cell_type": "markdown",
   "metadata": {},
   "source": [
    "## Model Building"
   ]
  },
  {
   "cell_type": "code",
   "execution_count": null,
   "metadata": {},
   "outputs": [],
   "source": []
  },
  {
   "cell_type": "code",
   "execution_count": null,
   "metadata": {},
   "outputs": [],
   "source": [
    "counties = ['Kings County, New York', 'Clark County, Nevada',\n",
    "       'San Bernardino County, California', 'Wayne County, Michigan',\n",
    "       'Tarrant County, Texas', 'Franklin County, Ohio',\n",
    "       'Cuyahoga County, Ohio', 'Miami-Dade County, Florida',\n",
    "       'Bexar County, Texas', 'Maricopa County, Arizona',\n",
    "       'Cook County, Illinois', 'Los Angeles County, California',\n",
    "       'Philadelphia County, Pennsylvania',\n",
    "       'San Diego County, California', 'Suffolk County, Massachusetts',\n",
    "       'Broward County, Florida', 'Hennepin County, Minnesota',\n",
    "       'Allegheny County, Pennsylvania', 'Alameda County, California',\n",
    "       'Orange County, California']\n",
    "\n",
    "results = {}\n",
    "for i in counties:\n",
    "    temp = master_new[master_new['County'] == i]\n",
    "    result_list = []\n",
    "    for j in range(100):\n",
    "        temp_boot =  temp.sample(len(temp), replace=True)\n",
    "        y = temp_boot.ue_rate\n",
    "        x = np.log(temp_boot.diff_covid_cases)\n",
    "        #x = temp.diff_covid_cases\n",
    "        X = add_constant(x)\n",
    "    \n",
    "        reg = LinearRegression().fit(X, y)\n",
    "    \n",
    "        rsquared = reg.score(X,y)\n",
    "        result_list.append(rsquared)\n",
    "    \n",
    "    results[i] = sum(result_list) / len(result_list)\n",
    "    "
   ]
  },
  {
   "cell_type": "code",
   "execution_count": null,
   "metadata": {},
   "outputs": [],
   "source": [
    "results"
   ]
  },
  {
   "cell_type": "code",
   "execution_count": null,
   "metadata": {},
   "outputs": [],
   "source": [
    "predline = reg.predict(X)"
   ]
  },
  {
   "cell_type": "code",
   "execution_count": null,
   "metadata": {},
   "outputs": [],
   "source": [
    "temp = master_new[master_new['County'] == 'Cook County, Illinois']\n",
    "\n",
    "y = temp.ue_rate\n",
    "x = temp.diff_covid_cases\n",
    "X = add_constant(x)\n",
    "\n",
    "reg = LinearRegression().fit(X, y)\n",
    "\n",
    "predline = reg.predict(X)\n",
    "\n",
    "plt.figure(num=None, figsize=(8, 6), dpi=80, facecolor='w', edgecolor='k')\n",
    "plt.scatter(temp['diff_covid_cases'],temp['ue_rate'])\n",
    "plt.legend()\n",
    "plt.ylabel('Unemployment Rate', fontsize=18)\n",
    "plt.xlabel('Log(Net New Covid Cases)', fontsize=18)\n",
    "\n",
    "\n",
    "plt.plot(X, predline, c= \"red\")\n",
    "\n",
    "#plt.gca().invert_yaxis()\n",
    "plt.show()"
   ]
  },
  {
   "cell_type": "code",
   "execution_count": null,
   "metadata": {},
   "outputs": [],
   "source": []
  },
  {
   "cell_type": "code",
   "execution_count": null,
   "metadata": {},
   "outputs": [],
   "source": [
    "reg.score(X,y)"
   ]
  },
  {
   "cell_type": "code",
   "execution_count": null,
   "metadata": {},
   "outputs": [],
   "source": []
  },
  {
   "cell_type": "code",
   "execution_count": null,
   "metadata": {},
   "outputs": [],
   "source": [
    "master_new['County'].unique()"
   ]
  },
  {
   "cell_type": "code",
   "execution_count": null,
   "metadata": {},
   "outputs": [],
   "source": []
  }
 ],
 "metadata": {
  "colab": {
   "collapsed_sections": [],
   "name": "datathon.ipynb",
   "provenance": []
  },
  "kernelspec": {
   "display_name": "Python 3",
   "language": "python",
   "name": "python3"
  },
  "language_info": {
   "codemirror_mode": {
    "name": "ipython",
    "version": 3
   },
   "file_extension": ".py",
   "mimetype": "text/x-python",
   "name": "python",
   "nbconvert_exporter": "python",
   "pygments_lexer": "ipython3",
   "version": "3.7.6"
  }
 },
 "nbformat": 4,
 "nbformat_minor": 1
}
